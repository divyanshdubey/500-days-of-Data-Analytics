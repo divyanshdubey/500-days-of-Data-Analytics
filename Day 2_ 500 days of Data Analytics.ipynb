{
 "cells": [
  {
   "cell_type": "markdown",
   "id": "0a4aae42",
   "metadata": {},
   "source": [
    "                                        \"Shree Ganeshaye Namah\"\n",
    "\n",
    "# Day 2 \n",
    "    500 Days of Data Analytics"
   ]
  },
  {
   "cell_type": "markdown",
   "id": "6e509f7e",
   "metadata": {},
   "source": [
    "## Strings"
   ]
  },
  {
   "cell_type": "markdown",
   "id": "3c4de00a",
   "metadata": {},
   "source": [
    "### Different ways we can store strings"
   ]
  },
  {
   "cell_type": "code",
   "execution_count": 2,
   "id": "04707936",
   "metadata": {},
   "outputs": [
    {
     "data": {
      "text/plain": [
       "'Abhiyansh Dubey'"
      ]
     },
     "execution_count": 2,
     "metadata": {},
     "output_type": "execute_result"
    }
   ],
   "source": [
    "# Storing String with the help of Double Quotes\n",
    "\n",
    "stg = \"Abhiyansh Dubey\"\n",
    "stg"
   ]
  },
  {
   "cell_type": "code",
   "execution_count": 3,
   "id": "8cd4b361",
   "metadata": {},
   "outputs": [
    {
     "data": {
      "text/plain": [
       "'Abhiyansh Dubey'"
      ]
     },
     "execution_count": 3,
     "metadata": {},
     "output_type": "execute_result"
    }
   ],
   "source": [
    "# Storing String with the help of single quotes\n",
    "\n",
    "stg = 'Abhiyansh Dubey'\n",
    "stg"
   ]
  },
  {
   "cell_type": "markdown",
   "id": "2e91fd85",
   "metadata": {},
   "source": [
    "### How to store a string with single quotes and double quotes\n",
    "\n",
    "We use single quotes to store string with double quotes and vice versa"
   ]
  },
  {
   "cell_type": "code",
   "execution_count": 5,
   "id": "84c89716",
   "metadata": {},
   "outputs": [
    {
     "data": {
      "text/plain": [
       "\"Hello Ma'am\""
      ]
     },
     "execution_count": 5,
     "metadata": {},
     "output_type": "execute_result"
    }
   ],
   "source": [
    "sngl_qte = \"Hello Ma'am\"\n",
    "sngl_qte"
   ]
  },
  {
   "cell_type": "code",
   "execution_count": 6,
   "id": "848bcbb7",
   "metadata": {},
   "outputs": [
    {
     "data": {
      "text/plain": [
       "'He Exclamined, \"Great Idea!!\"'"
      ]
     },
     "execution_count": 6,
     "metadata": {},
     "output_type": "execute_result"
    }
   ],
   "source": [
    "dbl_qte = 'He Exclamined, \"Great Idea!!\"'\n",
    "dbl_qte"
   ]
  },
  {
   "cell_type": "markdown",
   "id": "2b37c332",
   "metadata": {},
   "source": [
    "Alternate way to do the same is by using escape character"
   ]
  },
  {
   "cell_type": "code",
   "execution_count": 8,
   "id": "c43e86c0",
   "metadata": {},
   "outputs": [
    {
     "data": {
      "text/plain": [
       "'Who is the \"King of the Jungle\". It\\'s Lion.'"
      ]
     },
     "execution_count": 8,
     "metadata": {},
     "output_type": "execute_result"
    }
   ],
   "source": [
    "# Escape character \"\\\" will make quote as a part of string instead of considering it having a special function\n",
    "\n",
    "stg = \"Who is the \\\"King of the Jungle\\\". It's Lion.\"\n",
    "stg"
   ]
  },
  {
   "cell_type": "markdown",
   "id": "6865d252",
   "metadata": {},
   "source": [
    "### How to store multiple lines in a variable"
   ]
  },
  {
   "cell_type": "code",
   "execution_count": 13,
   "id": "6d420ab4",
   "metadata": {},
   "outputs": [
    {
     "name": "stdout",
     "output_type": "stream",
     "text": [
      "Hon'ble Prime Minister,\n",
      "Union Of India\n"
     ]
    }
   ],
   "source": [
    "# We use (''') three single quotes to store string with multiple lines\n",
    "\n",
    "stg = '''Hon\\'ble Prime Minister,\n",
    "Union Of India'''\n",
    "\n",
    "print(stg)"
   ]
  },
  {
   "cell_type": "markdown",
   "id": "f322de4f",
   "metadata": {},
   "source": [
    "## Built-in Functions with String"
   ]
  },
  {
   "cell_type": "markdown",
   "id": "53f9992b",
   "metadata": {},
   "source": [
    "Length Function"
   ]
  },
  {
   "cell_type": "code",
   "execution_count": 17,
   "id": "02be1536",
   "metadata": {},
   "outputs": [
    {
     "name": "stdout",
     "output_type": "stream",
     "text": [
      "15\n"
     ]
    }
   ],
   "source": [
    "# This function will tell the length of the string.\n",
    "\n",
    "stg = \"Abhiyansh Dubey\"\n",
    "\n",
    "print(len(stg))"
   ]
  },
  {
   "cell_type": "markdown",
   "id": "09871f7b",
   "metadata": {},
   "source": [
    "Extracting character from a string"
   ]
  },
  {
   "cell_type": "code",
   "execution_count": 18,
   "id": "1e7b6886",
   "metadata": {},
   "outputs": [
    {
     "name": "stdout",
     "output_type": "stream",
     "text": [
      "n\n"
     ]
    }
   ],
   "source": [
    "# We use index of the character to extract the variable. Indexing start with firt character being the 0th Index.\n",
    "# So now we are extracting the 7th character i.e., Index 6\n",
    "\n",
    "print(stg[6])"
   ]
  },
  {
   "cell_type": "code",
   "execution_count": 25,
   "id": "e43a083d",
   "metadata": {},
   "outputs": [
    {
     "name": "stdout",
     "output_type": "stream",
     "text": [
      "y\n"
     ]
    }
   ],
   "source": [
    "# You can also do this by using negative indexing\n",
    "# if you want to select last character in the string\n",
    "\n",
    "print(stg[-1])"
   ]
  },
  {
   "cell_type": "code",
   "execution_count": 26,
   "id": "a0b25588",
   "metadata": {},
   "outputs": [
    {
     "name": "stdout",
     "output_type": "stream",
     "text": [
      "b\n"
     ]
    }
   ],
   "source": [
    "# similarly last third character can be extracted as follows\n",
    "\n",
    "print(stg[-3])"
   ]
  },
  {
   "cell_type": "markdown",
   "id": "b0e0d9b8",
   "metadata": {},
   "source": [
    "Extracting all the characters in the string one by one"
   ]
  },
  {
   "cell_type": "code",
   "execution_count": 19,
   "id": "e4c0f158",
   "metadata": {},
   "outputs": [
    {
     "name": "stdout",
     "output_type": "stream",
     "text": [
      "A\n",
      "b\n",
      "h\n",
      "i\n",
      "y\n",
      "a\n",
      "n\n",
      "s\n",
      "h\n",
      " \n",
      "D\n",
      "u\n",
      "b\n",
      "e\n",
      "y\n"
     ]
    }
   ],
   "source": [
    "for i in stg:\n",
    "    print(i)"
   ]
  },
  {
   "cell_type": "code",
   "execution_count": 20,
   "id": "2cf4e9f2",
   "metadata": {},
   "outputs": [
    {
     "name": "stdout",
     "output_type": "stream",
     "text": [
      "A,b,h,i,y,a,n,s,h, ,D,u,b,e,y,"
     ]
    }
   ],
   "source": [
    "# If you want to print all the charaters in the same line (Here i am using comma as separator)\n",
    "\n",
    "for i in stg:\n",
    "    print(i, end = \",\")"
   ]
  },
  {
   "cell_type": "markdown",
   "id": "aabb3224",
   "metadata": {},
   "source": [
    "## Slicing"
   ]
  },
  {
   "cell_type": "code",
   "execution_count": 22,
   "id": "ed4b89e4",
   "metadata": {},
   "outputs": [
    {
     "name": "stdout",
     "output_type": "stream",
     "text": [
      "Abhiy\n"
     ]
    }
   ],
   "source": [
    "# You can also extract mulitple characters in a string at a time instead of one at a time\n",
    "\n",
    "# Extracting first 5 characters\n",
    "\n",
    "print(stg[0:5])"
   ]
  },
  {
   "cell_type": "code",
   "execution_count": 23,
   "id": "df9b27b0",
   "metadata": {},
   "outputs": [
    {
     "name": "stdout",
     "output_type": "stream",
     "text": [
      "bhiyan\n"
     ]
    }
   ],
   "source": [
    "# Extracting 3rd to 7th character i.e., characters from index 2 to index 6\n",
    "\n",
    "print(stg[2:7])"
   ]
  },
  {
   "cell_type": "markdown",
   "id": "6829dfd5",
   "metadata": {},
   "source": [
    "Above you can see in function, stated starting index is from where you start and ending index is the one after the last index."
   ]
  },
  {
   "cell_type": "code",
   "execution_count": 30,
   "id": "600ace12",
   "metadata": {},
   "outputs": [
    {
     "name": "stdout",
     "output_type": "stream",
     "text": [
      "h Du\n"
     ]
    }
   ],
   "source": [
    "# You can also print the strings by using negative indexing\n",
    "\n",
    "print(stg[-7:-3])"
   ]
  },
  {
   "cell_type": "code",
   "execution_count": 31,
   "id": "cd7b0b7f",
   "metadata": {},
   "outputs": [
    {
     "name": "stdout",
     "output_type": "stream",
     "text": [
      "Abhiya\n"
     ]
    }
   ],
   "source": [
    "# You also skip writing starting index if you want first 4 or first 5 characters from a string\n",
    "\n",
    "# first 5 characters \n",
    "\n",
    "print(stg[:6])"
   ]
  },
  {
   "cell_type": "code",
   "execution_count": 32,
   "id": "e3766c85",
   "metadata": {},
   "outputs": [
    {
     "name": "stdout",
     "output_type": "stream",
     "text": [
      "Dubey\n"
     ]
    }
   ],
   "source": [
    "# Similary one can skip ending index if needed to extract last few characters from the string\n",
    "\n",
    "# last 5\n",
    "\n",
    "print(stg[10:])"
   ]
  },
  {
   "cell_type": "markdown",
   "id": "22914c1f",
   "metadata": {},
   "source": [
    "## Methods in Strings\n",
    "Some commonly used methods in Strings"
   ]
  },
  {
   "cell_type": "markdown",
   "id": "b7d2ec59",
   "metadata": {},
   "source": [
    "### Converting string with all uppercase characters"
   ]
  },
  {
   "cell_type": "code",
   "execution_count": 33,
   "id": "8d48da2c",
   "metadata": {},
   "outputs": [],
   "source": [
    "stg = \"Welcome to 500 Days of Data Analytics\""
   ]
  },
  {
   "cell_type": "code",
   "execution_count": 34,
   "id": "2ee19480",
   "metadata": {},
   "outputs": [
    {
     "name": "stdout",
     "output_type": "stream",
     "text": [
      "WELCOME TO 500 DAYS OF DATA ANALYTICS\n"
     ]
    }
   ],
   "source": [
    "print(stg.upper())"
   ]
  },
  {
   "cell_type": "markdown",
   "id": "c41d3bed",
   "metadata": {},
   "source": [
    "### Converting string with all lowercase characters"
   ]
  },
  {
   "cell_type": "code",
   "execution_count": 36,
   "id": "2dd7bc29",
   "metadata": {},
   "outputs": [
    {
     "name": "stdout",
     "output_type": "stream",
     "text": [
      "welcome to 500 days of data analytics\n"
     ]
    }
   ],
   "source": [
    "print(stg.lower())"
   ]
  },
  {
   "cell_type": "code",
   "execution_count": 38,
   "id": "efefc376",
   "metadata": {},
   "outputs": [
    {
     "name": "stdout",
     "output_type": "stream",
     "text": [
      "2\n"
     ]
    }
   ],
   "source": [
    "print(stg.find(\"l\"))"
   ]
  },
  {
   "cell_type": "code",
   "execution_count": 39,
   "id": "c7ba9eb0",
   "metadata": {},
   "outputs": [
    {
     "name": "stdout",
     "output_type": "stream",
     "text": [
      "2\n"
     ]
    }
   ],
   "source": [
    "print(stg.index(\"l\"))"
   ]
  },
  {
   "cell_type": "markdown",
   "id": "74080ff5",
   "metadata": {},
   "source": [
    "### Splitting a string into a list of elements"
   ]
  },
  {
   "cell_type": "code",
   "execution_count": 41,
   "id": "1c648b78",
   "metadata": {},
   "outputs": [
    {
     "name": "stdout",
     "output_type": "stream",
     "text": [
      "['Welcome', 'to', '500', 'Days', 'of', 'Data', 'Analytics']\n"
     ]
    }
   ],
   "source": [
    "print(stg.split(\" \"))"
   ]
  },
  {
   "cell_type": "markdown",
   "id": "e0adf6cb",
   "metadata": {},
   "source": [
    "### Splitting a string into a tuple of three elements\n",
    "\n",
    "- Middle element will be the one which is given as argument.\n",
    "- Left element will be the one which will be consisted of characters in the left of the middle element.\n",
    "- Right element will be the one which will be consisted of characters in the right of the middle element."
   ]
  },
  {
   "cell_type": "code",
   "execution_count": 43,
   "id": "b15280e2",
   "metadata": {},
   "outputs": [
    {
     "name": "stdout",
     "output_type": "stream",
     "text": [
      "('Welcome to 500 Days', ' of ', 'Data Analytics')\n"
     ]
    }
   ],
   "source": [
    "print(stg.rpartition(\" of \"))"
   ]
  },
  {
   "cell_type": "markdown",
   "id": "37145042",
   "metadata": {},
   "source": [
    "### Replacing a set of characters from a String"
   ]
  },
  {
   "cell_type": "code",
   "execution_count": 44,
   "id": "abf630db",
   "metadata": {},
   "outputs": [
    {
     "name": "stdout",
     "output_type": "stream",
     "text": [
      "Welcome to 500 Days of Python Programming\n"
     ]
    }
   ],
   "source": [
    "print(stg.replace(\"Data Analytics\", \"Python Programming\"))"
   ]
  },
  {
   "cell_type": "markdown",
   "id": "84893233",
   "metadata": {},
   "source": [
    "### Concatenation in Strings"
   ]
  },
  {
   "cell_type": "code",
   "execution_count": 49,
   "id": "f5f438dd",
   "metadata": {},
   "outputs": [
    {
     "name": "stdout",
     "output_type": "stream",
     "text": [
      "Hello there, all!\n"
     ]
    }
   ],
   "source": [
    "a = \"Hello\"\n",
    "b = \"there\"\n",
    "c = \"all\"\n",
    "\n",
    "stgg = a + \" \" + b + \",\" + \" \" + c + \"!\"\n",
    "print(stgg)"
   ]
  },
  {
   "cell_type": "markdown",
   "id": "5e42de61",
   "metadata": {},
   "source": [
    "We can also do the same, in a more organised way by using format method"
   ]
  },
  {
   "cell_type": "code",
   "execution_count": 51,
   "id": "ed4dc3f6",
   "metadata": {},
   "outputs": [
    {
     "name": "stdout",
     "output_type": "stream",
     "text": [
      "Hello there, all!\n"
     ]
    }
   ],
   "source": [
    "# In format function we use place holder \"{}\" to define the position of the strings\n",
    "# you want to concatenate,  in the final string \n",
    "# In the same order of concatenation we write respective strings.\n",
    "\n",
    "stg1 = \"{} {}, {}!\".format(a,b,c)\n",
    "print(stg1)"
   ]
  },
  {
   "cell_type": "code",
   "execution_count": null,
   "id": "7341e5ce",
   "metadata": {},
   "outputs": [],
   "source": []
  }
 ],
 "metadata": {
  "kernelspec": {
   "display_name": "Python 3",
   "language": "python",
   "name": "python3"
  },
  "language_info": {
   "codemirror_mode": {
    "name": "ipython",
    "version": 3
   },
   "file_extension": ".py",
   "mimetype": "text/x-python",
   "name": "python",
   "nbconvert_exporter": "python",
   "pygments_lexer": "ipython3",
   "version": "3.8.8"
  }
 },
 "nbformat": 4,
 "nbformat_minor": 5
}
