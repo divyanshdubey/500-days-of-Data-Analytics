{
 "cells": [
  {
   "cell_type": "markdown",
   "id": "b5408eba",
   "metadata": {},
   "source": [
    "# Day 1 \n",
    "    500 Days of Data Analytics"
   ]
  },
  {
   "cell_type": "markdown",
   "id": "a1d20aa4",
   "metadata": {},
   "source": [
    "## Simple Maths Functions offered by Python"
   ]
  },
  {
   "cell_type": "code",
   "execution_count": 46,
   "id": "853921ec",
   "metadata": {},
   "outputs": [
    {
     "name": "stdout",
     "output_type": "stream",
     "text": [
      "7.5\n"
     ]
    }
   ],
   "source": [
    "# Storing absolute value (positive value)\n",
    "\n",
    "x = -7.5\n",
    "print(abs(x))"
   ]
  },
  {
   "cell_type": "code",
   "execution_count": 47,
   "id": "91c89d7a",
   "metadata": {},
   "outputs": [
    {
     "name": "stdout",
     "output_type": "stream",
     "text": [
      "22026.465794806718\n"
     ]
    }
   ],
   "source": [
    "import math\n",
    "x = 10\n",
    "print(math.exp(x))"
   ]
  },
  {
   "cell_type": "code",
   "execution_count": 48,
   "id": "983e4a40",
   "metadata": {},
   "outputs": [
    {
     "data": {
      "text/plain": [
       "2.718281828459045"
      ]
     },
     "execution_count": 48,
     "metadata": {},
     "output_type": "execute_result"
    }
   ],
   "source": [
    "math.e"
   ]
  },
  {
   "cell_type": "code",
   "execution_count": 49,
   "id": "adf84428",
   "metadata": {},
   "outputs": [
    {
     "data": {
      "text/plain": [
       "3.141592653589793"
      ]
     },
     "execution_count": 49,
     "metadata": {},
     "output_type": "execute_result"
    }
   ],
   "source": [
    "math.pi"
   ]
  },
  {
   "cell_type": "code",
   "execution_count": 50,
   "id": "d45489ea",
   "metadata": {},
   "outputs": [
    {
     "data": {
      "text/plain": [
       "10.0"
      ]
     },
     "execution_count": 50,
     "metadata": {},
     "output_type": "execute_result"
    }
   ],
   "source": [
    "# Finding square root of a number\n",
    "\n",
    "y = math.sqrt(100)\n",
    "y"
   ]
  },
  {
   "cell_type": "code",
   "execution_count": 2,
   "id": "99260d01",
   "metadata": {},
   "outputs": [
    {
     "data": {
      "text/plain": [
       "56"
      ]
     },
     "execution_count": 2,
     "metadata": {},
     "output_type": "execute_result"
    }
   ],
   "source": [
    "max(1, 46, 45, 56, 7)"
   ]
  },
  {
   "cell_type": "code",
   "execution_count": 4,
   "id": "e7676cfa",
   "metadata": {},
   "outputs": [
    {
     "data": {
      "text/plain": [
       "0.2"
      ]
     },
     "execution_count": 4,
     "metadata": {},
     "output_type": "execute_result"
    }
   ],
   "source": [
    "min(1, 435, 23, 456, 0.2)"
   ]
  },
  {
   "cell_type": "code",
   "execution_count": 6,
   "id": "6abe9a1d",
   "metadata": {},
   "outputs": [
    {
     "data": {
      "text/plain": [
       "5.0"
      ]
     },
     "execution_count": 6,
     "metadata": {},
     "output_type": "execute_result"
    }
   ],
   "source": [
    "10/2"
   ]
  },
  {
   "cell_type": "code",
   "execution_count": 9,
   "id": "5edf1ee1",
   "metadata": {},
   "outputs": [
    {
     "data": {
      "text/plain": [
       "5"
      ]
     },
     "execution_count": 9,
     "metadata": {},
     "output_type": "execute_result"
    }
   ],
   "source": [
    "10//2"
   ]
  },
  {
   "cell_type": "code",
   "execution_count": 11,
   "id": "e271e4c2",
   "metadata": {},
   "outputs": [
    {
     "data": {
      "text/plain": [
       "4.5"
      ]
     },
     "execution_count": 11,
     "metadata": {},
     "output_type": "execute_result"
    }
   ],
   "source": [
    "# with decimal\n",
    "\n",
    "9/2"
   ]
  },
  {
   "cell_type": "code",
   "execution_count": 12,
   "id": "baeb8ad2",
   "metadata": {},
   "outputs": [
    {
     "data": {
      "text/plain": [
       "4"
      ]
     },
     "execution_count": 12,
     "metadata": {},
     "output_type": "execute_result"
    }
   ],
   "source": [
    "# without decimal\n",
    "\n",
    "9//2"
   ]
  },
  {
   "cell_type": "code",
   "execution_count": 15,
   "id": "ad5430a9",
   "metadata": {},
   "outputs": [
    {
     "data": {
      "text/plain": [
       "4"
      ]
     },
     "execution_count": 15,
     "metadata": {},
     "output_type": "execute_result"
    }
   ],
   "source": [
    "# Rermainder\n",
    "\n",
    "19 % 5"
   ]
  },
  {
   "cell_type": "code",
   "execution_count": 17,
   "id": "7247ea46",
   "metadata": {},
   "outputs": [
    {
     "data": {
      "text/plain": [
       "100"
      ]
     },
     "execution_count": 17,
     "metadata": {},
     "output_type": "execute_result"
    }
   ],
   "source": [
    "# Power\n",
    "\n",
    "10**2"
   ]
  },
  {
   "cell_type": "code",
   "execution_count": 19,
   "id": "354382bb",
   "metadata": {},
   "outputs": [
    {
     "data": {
      "text/plain": [
       "81"
      ]
     },
     "execution_count": 19,
     "metadata": {},
     "output_type": "execute_result"
    }
   ],
   "source": [
    "9**2"
   ]
  },
  {
   "cell_type": "code",
   "execution_count": 22,
   "id": "3b415276",
   "metadata": {},
   "outputs": [
    {
     "data": {
      "text/plain": [
       "125"
      ]
     },
     "execution_count": 22,
     "metadata": {},
     "output_type": "execute_result"
    }
   ],
   "source": [
    "5**3"
   ]
  },
  {
   "cell_type": "markdown",
   "id": "a3c3e62f",
   "metadata": {},
   "source": [
    "## Coversions"
   ]
  },
  {
   "cell_type": "code",
   "execution_count": 24,
   "id": "b9e6d52f",
   "metadata": {},
   "outputs": [
    {
     "data": {
      "text/plain": [
       "str"
      ]
     },
     "execution_count": 24,
     "metadata": {},
     "output_type": "execute_result"
    }
   ],
   "source": [
    "x = \"102\"\n",
    "\n",
    "type(x)"
   ]
  },
  {
   "cell_type": "code",
   "execution_count": 29,
   "id": "83d07ebf",
   "metadata": {},
   "outputs": [],
   "source": [
    "y = int(x)"
   ]
  },
  {
   "cell_type": "code",
   "execution_count": 31,
   "id": "bb22803b",
   "metadata": {},
   "outputs": [
    {
     "name": "stdout",
     "output_type": "stream",
     "text": [
      "Type of x  <class 'str'>\n",
      "Type of y  <class 'int'>\n"
     ]
    }
   ],
   "source": [
    "print(\"Type of x \",type(x))\n",
    "print(\"Type of y \",type(y))"
   ]
  },
  {
   "cell_type": "markdown",
   "id": "cf298dd2",
   "metadata": {},
   "source": [
    "## Dealing with Complex Numbers\n"
   ]
  },
  {
   "cell_type": "code",
   "execution_count": 36,
   "id": "42e4ac26",
   "metadata": {},
   "outputs": [
    {
     "data": {
      "text/plain": [
       "complex"
      ]
     },
     "execution_count": 36,
     "metadata": {},
     "output_type": "execute_result"
    }
   ],
   "source": [
    "# Dealing with Complex Numbers\n",
    "\n",
    "#initializing a complex number\n",
    "com = 2 + 3j\n",
    "\n",
    "type(com)"
   ]
  },
  {
   "cell_type": "code",
   "execution_count": 39,
   "id": "d808ebfe",
   "metadata": {},
   "outputs": [
    {
     "data": {
      "text/plain": [
       "int"
      ]
     },
     "execution_count": 39,
     "metadata": {},
     "output_type": "execute_result"
    }
   ],
   "source": [
    "x = 32\n",
    "\n",
    "type(x)"
   ]
  },
  {
   "cell_type": "code",
   "execution_count": 42,
   "id": "4e1da212",
   "metadata": {},
   "outputs": [
    {
     "name": "stdout",
     "output_type": "stream",
     "text": [
      "(32+0j)\n"
     ]
    }
   ],
   "source": [
    "y = complex(x)\n",
    "print(y)"
   ]
  },
  {
   "cell_type": "code",
   "execution_count": 1,
   "id": "2b56743a",
   "metadata": {},
   "outputs": [
    {
     "data": {
      "text/plain": [
       "(6+2j)"
      ]
     },
     "execution_count": 1,
     "metadata": {},
     "output_type": "execute_result"
    }
   ],
   "source": [
    "#alternate way of initialising complex number\n",
    "\n",
    "com2 = complex(6,2)\n",
    "com2"
   ]
  },
  {
   "cell_type": "markdown",
   "id": "0e1fc8fc",
   "metadata": {},
   "source": [
    "## Lists"
   ]
  },
  {
   "cell_type": "code",
   "execution_count": 2,
   "id": "71730b73",
   "metadata": {},
   "outputs": [],
   "source": [
    "mixls = [[1,'a'], [22,'asd', \"Strnggg\"]]"
   ]
  },
  {
   "cell_type": "code",
   "execution_count": 4,
   "id": "762c0965",
   "metadata": {},
   "outputs": [],
   "source": [
    "mix = [1,'a', 121, \"Arya\", \"97826\"]"
   ]
  },
  {
   "cell_type": "code",
   "execution_count": 9,
   "id": "ac07523f",
   "metadata": {},
   "outputs": [
    {
     "data": {
      "text/plain": [
       "[1, 121, '97826']"
      ]
     },
     "execution_count": 9,
     "metadata": {},
     "output_type": "execute_result"
    }
   ],
   "source": [
    "mix[::2]"
   ]
  },
  {
   "cell_type": "code",
   "execution_count": 11,
   "id": "946bbc37",
   "metadata": {},
   "outputs": [
    {
     "data": {
      "text/plain": [
       "['97826', 'Arya', 121, 'a', 1]"
      ]
     },
     "execution_count": 11,
     "metadata": {},
     "output_type": "execute_result"
    }
   ],
   "source": [
    "#Access element of list in reverse order.\n",
    "\n",
    "mix[::-1]"
   ]
  },
  {
   "cell_type": "markdown",
   "id": "d026b34b",
   "metadata": {},
   "source": [
    "### Operations on Lists"
   ]
  },
  {
   "cell_type": "code",
   "execution_count": 15,
   "id": "d4650de8",
   "metadata": {},
   "outputs": [
    {
     "name": "stdout",
     "output_type": "stream",
     "text": [
      "[0, 0, 0, 0, 0, 0, 0, 0, 0, 0, 0, 0, 0, 0, 0, 0, 0, 0, 0, 0, 0, 0, 0, 0, 0, 0, 0, 0, 0, 0, 0, 0, 0, 0, 0, 0, 0, 0, 0, 0, 0, 0, 0, 0, 0, 0, 0, 0, 0, 0, 0, 0, 0, 0, 0, 0, 0, 0, 0, 0, 0, 0, 0, 0, 0, 0, 0, 0, 0, 0, 0, 0, 0, 0, 0, 0, 0, 0, 0, 0, 0, 0, 0, 0, 0, 0, 0, 0, 0, 0, 0, 0, 0, 0, 0, 0, 0, 0, 0, 0]\n"
     ]
    }
   ],
   "source": [
    "# Creating a list using multiplication\n",
    "\n",
    "z = [0]*100\n",
    "print (z)"
   ]
  },
  {
   "cell_type": "code",
   "execution_count": 16,
   "id": "4fc4a9e5",
   "metadata": {},
   "outputs": [
    {
     "name": "stdout",
     "output_type": "stream",
     "text": [
      "[1, 2, 3, 1, 2, 3, 1, 2, 3, 1, 2, 3, 1, 2, 3, 1, 2, 3, 1, 2, 3, 1, 2, 3, 1, 2, 3, 1, 2, 3, 1, 2, 3, 1, 2, 3, 1, 2, 3, 1, 2, 3, 1, 2, 3, 1, 2, 3, 1, 2, 3, 1, 2, 3, 1, 2, 3, 1, 2, 3]\n"
     ]
    }
   ],
   "source": [
    "z1 = [1,2,3]*20\n",
    "print(z1)"
   ]
  },
  {
   "cell_type": "code",
   "execution_count": 19,
   "id": "25773b2a",
   "metadata": {},
   "outputs": [],
   "source": [
    "# Concotination of lists\n",
    "\n",
    "num = [1,2,3,45,354,324,234,23]\n",
    "alp = ['a','b','c','d','e']"
   ]
  },
  {
   "cell_type": "code",
   "execution_count": 21,
   "id": "d8b69ca4",
   "metadata": {},
   "outputs": [
    {
     "name": "stdout",
     "output_type": "stream",
     "text": [
      "[1, 2, 3, 45, 354, 324, 234, 23, 'a', 'b', 'c', 'd', 'e']\n"
     ]
    }
   ],
   "source": [
    "conc = num+alp\n",
    "print(conc)"
   ]
  },
  {
   "cell_type": "code",
   "execution_count": 35,
   "id": "ade82cef",
   "metadata": {},
   "outputs": [
    {
     "name": "stdout",
     "output_type": "stream",
     "text": [
      "String:  Hello Love \n",
      "\n",
      "Unpacked characters of the string in a list:  \n",
      "\n",
      " ['H', 'e', 'l', 'l', 'o', ' ', 'L', 'o', 'v', 'e']\n"
     ]
    }
   ],
   "source": [
    "# Unpacking of string\n",
    "# means unpacking of each character in a string to form seperate elements of the list.\n",
    "\n",
    "\n",
    "var = \"Hello Love\"\n",
    "ls = list(var)\n",
    "\n",
    "print(\"String: \", var, \"\\n\")\n",
    "print(\"Unpacked characters of the string in a list: \" , \"\\n\"*2, ls)"
   ]
  },
  {
   "cell_type": "code",
   "execution_count": 37,
   "id": "983b47ad",
   "metadata": {},
   "outputs": [
    {
     "data": {
      "text/plain": [
       "[1, 2, 3, 4, 5, 6, 7, 8]"
      ]
     },
     "execution_count": 37,
     "metadata": {},
     "output_type": "execute_result"
    }
   ],
   "source": [
    "# How to pull out one element from a list \n",
    "\n",
    "num = [1,2,3,4,5,6,7,8]\n",
    "num"
   ]
  },
  {
   "cell_type": "code",
   "execution_count": 43,
   "id": "e3d4aee2",
   "metadata": {},
   "outputs": [],
   "source": [
    "x,y,z, *rest_of_the_list = num"
   ]
  },
  {
   "cell_type": "code",
   "execution_count": 44,
   "id": "e542d70f",
   "metadata": {},
   "outputs": [
    {
     "name": "stdout",
     "output_type": "stream",
     "text": [
      "List:  [1, 2, 3, 4, 5, 6, 7, 8]\n",
      "Pulled out Variables: \n",
      "1\n",
      "2\n",
      "3\n",
      "Rest of the list:  [4, 5, 6, 7, 8]\n"
     ]
    }
   ],
   "source": [
    "print(\"List: \", num)\n",
    "print(\"Pulled out Variables: \")\n",
    "print(x)\n",
    "print(y)\n",
    "print(z)\n",
    "print(\"Rest of the list: \", rest_of_the_list)"
   ]
  },
  {
   "cell_type": "markdown",
   "id": "45fc1ae8",
   "metadata": {},
   "source": [
    "## Methods in Lists"
   ]
  },
  {
   "cell_type": "code",
   "execution_count": 61,
   "id": "0e4b9b67",
   "metadata": {},
   "outputs": [
    {
     "data": {
      "text/plain": [
       "[1, 2, 3, 4, 5, 6, 7, 8]"
      ]
     },
     "execution_count": 61,
     "metadata": {},
     "output_type": "execute_result"
    }
   ],
   "source": [
    "num = [1, 2, 3, 4, 5, 6, 7, 8]\n",
    "num"
   ]
  },
  {
   "cell_type": "code",
   "execution_count": 62,
   "id": "5824a8ee",
   "metadata": {},
   "outputs": [],
   "source": [
    "# Adding element in a list (at the end)\n",
    "\n",
    "num.append(55)"
   ]
  },
  {
   "cell_type": "code",
   "execution_count": 63,
   "id": "e4c0eb51",
   "metadata": {},
   "outputs": [
    {
     "data": {
      "text/plain": [
       "[1, 2, 3, 4, 5, 6, 7, 8, 55]"
      ]
     },
     "execution_count": 63,
     "metadata": {},
     "output_type": "execute_result"
    }
   ],
   "source": [
    "num"
   ]
  },
  {
   "cell_type": "code",
   "execution_count": 64,
   "id": "d7dbc131",
   "metadata": {},
   "outputs": [
    {
     "data": {
      "text/plain": [
       "['rod', 'glass', 'plas', 'ponder']"
      ]
     },
     "execution_count": 64,
     "metadata": {},
     "output_type": "execute_result"
    }
   ],
   "source": [
    "l1 = [\"rod\", \"glass\", \"plas\",\"ponder\"]\n",
    "l1"
   ]
  },
  {
   "cell_type": "code",
   "execution_count": 65,
   "id": "43600d48",
   "metadata": {},
   "outputs": [
    {
     "name": "stdout",
     "output_type": "stream",
     "text": [
      "[1, 2, 3, 4, 5, 6, 7, 8, 55, 'rod', 'glass', 'plas', 'ponder']\n"
     ]
    }
   ],
   "source": [
    "# Adding multiple elements at the end\n",
    "\n",
    "num.extend(l1)\n",
    "print(num)"
   ]
  },
  {
   "cell_type": "code",
   "execution_count": 66,
   "id": "89b0a0ce",
   "metadata": {},
   "outputs": [],
   "source": [
    "# Adding element in between of the list\n",
    "\n",
    "num.insert(5, \"Sectonomy\")"
   ]
  },
  {
   "cell_type": "code",
   "execution_count": 67,
   "id": "eb7387e0",
   "metadata": {},
   "outputs": [
    {
     "name": "stdout",
     "output_type": "stream",
     "text": [
      "[1, 2, 3, 4, 5, 'Sectonomy', 6, 7, 8, 55, 'rod', 'glass', 'plas', 'ponder']\n"
     ]
    }
   ],
   "source": [
    "print(num)"
   ]
  },
  {
   "cell_type": "code",
   "execution_count": 68,
   "id": "a689f73e",
   "metadata": {},
   "outputs": [
    {
     "data": {
      "text/plain": [
       "[1, 2, 3, 4, 5, 'Sectonomy', 7, 8, 55, 'rod', 'glass', 'plas', 'ponder']"
      ]
     },
     "execution_count": 68,
     "metadata": {},
     "output_type": "execute_result"
    }
   ],
   "source": [
    "# Removing an element\n",
    "\n",
    "num.remove(6)\n",
    "num"
   ]
  },
  {
   "cell_type": "code",
   "execution_count": 70,
   "id": "b32144d3",
   "metadata": {},
   "outputs": [
    {
     "data": {
      "text/plain": [
       "['f', 'q', 'd', 'b', 's']"
      ]
     },
     "execution_count": 70,
     "metadata": {},
     "output_type": "execute_result"
    }
   ],
   "source": [
    "# Sorting a list\n",
    "\n",
    "var1 = ['f','q','d','b','s']\n",
    "var1"
   ]
  },
  {
   "cell_type": "code",
   "execution_count": 71,
   "id": "c20ce890",
   "metadata": {},
   "outputs": [],
   "source": [
    "var1.sort()"
   ]
  },
  {
   "cell_type": "code",
   "execution_count": 72,
   "id": "cfe5601a",
   "metadata": {},
   "outputs": [
    {
     "data": {
      "text/plain": [
       "['b', 'd', 'f', 'q', 's']"
      ]
     },
     "execution_count": 72,
     "metadata": {},
     "output_type": "execute_result"
    }
   ],
   "source": [
    "var1"
   ]
  },
  {
   "cell_type": "markdown",
   "id": "349310d2",
   "metadata": {},
   "source": [
    "## Built-in functions with lists"
   ]
  },
  {
   "cell_type": "code",
   "execution_count": 73,
   "id": "c1b5f53b",
   "metadata": {},
   "outputs": [],
   "source": [
    "x = [7,6,3,5,2,65,23,234,65]"
   ]
  },
  {
   "cell_type": "code",
   "execution_count": 74,
   "id": "dd4b18ca",
   "metadata": {},
   "outputs": [
    {
     "data": {
      "text/plain": [
       "9"
      ]
     },
     "execution_count": 74,
     "metadata": {},
     "output_type": "execute_result"
    }
   ],
   "source": [
    "len(x)"
   ]
  },
  {
   "cell_type": "code",
   "execution_count": 75,
   "id": "f0100b60",
   "metadata": {},
   "outputs": [
    {
     "data": {
      "text/plain": [
       "2"
      ]
     },
     "execution_count": 75,
     "metadata": {},
     "output_type": "execute_result"
    }
   ],
   "source": [
    "min(x)"
   ]
  },
  {
   "cell_type": "code",
   "execution_count": 76,
   "id": "5d3765f6",
   "metadata": {},
   "outputs": [
    {
     "data": {
      "text/plain": [
       "234"
      ]
     },
     "execution_count": 76,
     "metadata": {},
     "output_type": "execute_result"
    }
   ],
   "source": [
    "max(x)"
   ]
  },
  {
   "cell_type": "code",
   "execution_count": 77,
   "id": "96f70164",
   "metadata": {},
   "outputs": [
    {
     "data": {
      "text/plain": [
       "410"
      ]
     },
     "execution_count": 77,
     "metadata": {},
     "output_type": "execute_result"
    }
   ],
   "source": [
    "sum(x)"
   ]
  },
  {
   "cell_type": "code",
   "execution_count": 78,
   "id": "7d5aac14",
   "metadata": {},
   "outputs": [
    {
     "data": {
      "text/plain": [
       "45.55555555555556"
      ]
     },
     "execution_count": 78,
     "metadata": {},
     "output_type": "execute_result"
    }
   ],
   "source": [
    "sum(x)/len(x)"
   ]
  },
  {
   "cell_type": "markdown",
   "id": "fa373197",
   "metadata": {},
   "source": [
    "## Creating Tuples"
   ]
  },
  {
   "cell_type": "code",
   "execution_count": 79,
   "id": "09d8dbe2",
   "metadata": {},
   "outputs": [
    {
     "data": {
      "text/plain": [
       "tuple"
      ]
     },
     "execution_count": 79,
     "metadata": {},
     "output_type": "execute_result"
    }
   ],
   "source": [
    "#Way 1\n",
    "emp= ()\n",
    "\n",
    "type(emp)"
   ]
  },
  {
   "cell_type": "code",
   "execution_count": 80,
   "id": "b05628d8",
   "metadata": {},
   "outputs": [],
   "source": [
    "#Way 2\n",
    "city = \"Pune\","
   ]
  },
  {
   "cell_type": "code",
   "execution_count": 81,
   "id": "e3fa3de1",
   "metadata": {},
   "outputs": [
    {
     "data": {
      "text/plain": [
       "tuple"
      ]
     },
     "execution_count": 81,
     "metadata": {},
     "output_type": "execute_result"
    }
   ],
   "source": [
    "type(city)"
   ]
  },
  {
   "cell_type": "code",
   "execution_count": 116,
   "id": "5ee06fb6",
   "metadata": {},
   "outputs": [
    {
     "data": {
      "text/plain": [
       "('Pune',)"
      ]
     },
     "execution_count": 116,
     "metadata": {},
     "output_type": "execute_result"
    }
   ],
   "source": [
    "#Way 3 (way 1 also by also giving values at the same time)\n",
    "\n",
    "city2 = (\"Pune\",)\n",
    "city2"
   ]
  },
  {
   "cell_type": "code",
   "execution_count": 117,
   "id": "dc6e8167",
   "metadata": {},
   "outputs": [
    {
     "data": {
      "text/plain": [
       "str"
      ]
     },
     "execution_count": 117,
     "metadata": {},
     "output_type": "execute_result"
    }
   ],
   "source": [
    "# Without using \",\" city1 will just be a string object\n",
    "\n",
    "city1 = (\"Pune\")\n",
    "type(city1)"
   ]
  },
  {
   "cell_type": "code",
   "execution_count": 87,
   "id": "77354b0a",
   "metadata": {},
   "outputs": [
    {
     "name": "stdout",
     "output_type": "stream",
     "text": [
      "('Pune', 'Bangalore', 'Delhi')\n",
      "('Pune', 'Bangalore', 'Delhi')\n"
     ]
    }
   ],
   "source": [
    "city1 = (\"Pune\", \"Bangalore\", \"Delhi\")\n",
    "city2 = \"Pune\",\"Bangalore\",\"Delhi\"\n",
    "\n",
    "print(city1)\n",
    "print(city2)"
   ]
  },
  {
   "cell_type": "markdown",
   "id": "4e9a0024",
   "metadata": {},
   "source": [
    "## Concatenation"
   ]
  },
  {
   "cell_type": "code",
   "execution_count": 88,
   "id": "856647cf",
   "metadata": {},
   "outputs": [],
   "source": [
    "num = 1,2,3,4,5"
   ]
  },
  {
   "cell_type": "code",
   "execution_count": 90,
   "id": "9241c5fb",
   "metadata": {},
   "outputs": [
    {
     "name": "stdout",
     "output_type": "stream",
     "text": [
      "('Pune', 'Bangalore', 'Delhi', 1, 2, 3, 4, 5)\n"
     ]
    }
   ],
   "source": [
    "print(city1+num)"
   ]
  },
  {
   "cell_type": "markdown",
   "id": "5bd1fb87",
   "metadata": {},
   "source": [
    "We cannot concatenate a list with a tuple"
   ]
  },
  {
   "cell_type": "markdown",
   "id": "259fcdae",
   "metadata": {},
   "source": [
    "## Nesting\n",
    "\n",
    "Nesting in tuples means storing tuples in another tuples."
   ]
  },
  {
   "cell_type": "code",
   "execution_count": 93,
   "id": "6c38cb6a",
   "metadata": {},
   "outputs": [
    {
     "data": {
      "text/plain": [
       "('Pune', 'Bangalore', 'Delhi')"
      ]
     },
     "execution_count": 93,
     "metadata": {},
     "output_type": "execute_result"
    }
   ],
   "source": [
    "city1"
   ]
  },
  {
   "cell_type": "code",
   "execution_count": 94,
   "id": "b0a9234a",
   "metadata": {},
   "outputs": [
    {
     "data": {
      "text/plain": [
       "(1, 2, 3, 4, 5)"
      ]
     },
     "execution_count": 94,
     "metadata": {},
     "output_type": "execute_result"
    }
   ],
   "source": [
    "num"
   ]
  },
  {
   "cell_type": "code",
   "execution_count": 97,
   "id": "e9bc3471",
   "metadata": {},
   "outputs": [],
   "source": [
    "# Storing above two tuples in another tuple\n",
    "\n",
    "nest_tup = (city1,num)"
   ]
  },
  {
   "cell_type": "code",
   "execution_count": 98,
   "id": "c800e291",
   "metadata": {},
   "outputs": [
    {
     "data": {
      "text/plain": [
       "(('Pune', 'Bangalore', 'Delhi'), (1, 2, 3, 4, 5))"
      ]
     },
     "execution_count": 98,
     "metadata": {},
     "output_type": "execute_result"
    }
   ],
   "source": [
    "nest_tup"
   ]
  },
  {
   "cell_type": "code",
   "execution_count": 100,
   "id": "74d02f3c",
   "metadata": {},
   "outputs": [
    {
     "data": {
      "text/plain": [
       "('Pune', 'Bangalore', 'Delhi', 1, 2, 3, 4, 5)"
      ]
     },
     "execution_count": 100,
     "metadata": {},
     "output_type": "execute_result"
    }
   ],
   "source": [
    "# If you'll use \"+\" sign instead of \",\" (coma), values inside the tuple will store\n",
    "# in the resultant tuple not the actual tuples.\n",
    "\n",
    "nest_tup2 = (city1+num)\n",
    "nest_tup2"
   ]
  },
  {
   "cell_type": "markdown",
   "id": "71c1ba5c",
   "metadata": {},
   "source": [
    "## Repetition "
   ]
  },
  {
   "cell_type": "code",
   "execution_count": 108,
   "id": "075b40fa",
   "metadata": {},
   "outputs": [
    {
     "data": {
      "text/plain": [
       "('python', 'python', 'python', 'python', 'python')"
      ]
     },
     "execution_count": 108,
     "metadata": {},
     "output_type": "execute_result"
    }
   ],
   "source": [
    "repp = (\"python\",)*5\n",
    "repp"
   ]
  },
  {
   "cell_type": "code",
   "execution_count": 113,
   "id": "57e4eddc",
   "metadata": {},
   "outputs": [
    {
     "name": "stdout",
     "output_type": "stream",
     "text": [
      "PythonPythonPythonPythonPython\n",
      "<class 'str'>\n"
     ]
    }
   ],
   "source": [
    "# if you didn't use \",\" after python, variable will store a single string \n",
    "# with repetition of python. Variable becoming a string\n",
    "# as follows\n",
    "\n",
    "rep1 = (\"Python\")*5\n",
    "print(rep1)\n",
    "print(type(rep1))"
   ]
  },
  {
   "cell_type": "code",
   "execution_count": 118,
   "id": "04447ee0",
   "metadata": {},
   "outputs": [
    {
     "data": {
      "text/plain": [
       "tuple"
      ]
     },
     "execution_count": 118,
     "metadata": {},
     "output_type": "execute_result"
    }
   ],
   "source": [
    "# if you dont want to store repeating python, just want to print it multiple times.\n",
    "\n",
    "rep2 = (\"Python\", )"
   ]
  },
  {
   "cell_type": "code",
   "execution_count": 119,
   "id": "6401ce13",
   "metadata": {},
   "outputs": [
    {
     "name": "stdout",
     "output_type": "stream",
     "text": [
      "('Python', 'Python', 'Python', 'Python', 'Python', 'Python')\n"
     ]
    }
   ],
   "source": [
    "print(rep2*6)"
   ]
  },
  {
   "cell_type": "markdown",
   "id": "5e4ddb4d",
   "metadata": {},
   "source": [
    "# Slicing in Tuples"
   ]
  },
  {
   "cell_type": "code",
   "execution_count": 17,
   "id": "60c1af8d",
   "metadata": {},
   "outputs": [],
   "source": [
    "num = 1,2,3,4,5,6,3,4,4"
   ]
  },
  {
   "cell_type": "code",
   "execution_count": 18,
   "id": "6ab393bf",
   "metadata": {},
   "outputs": [
    {
     "data": {
      "text/plain": [
       "(1, 2, 3, 4, 5, 6, 3, 4, 4)"
      ]
     },
     "execution_count": 18,
     "metadata": {},
     "output_type": "execute_result"
    }
   ],
   "source": [
    "num"
   ]
  },
  {
   "cell_type": "code",
   "execution_count": 19,
   "id": "48934910",
   "metadata": {},
   "outputs": [
    {
     "data": {
      "text/plain": [
       "tuple"
      ]
     },
     "execution_count": 19,
     "metadata": {},
     "output_type": "execute_result"
    }
   ],
   "source": [
    "type(num)"
   ]
  },
  {
   "cell_type": "code",
   "execution_count": 20,
   "id": "6315c144",
   "metadata": {},
   "outputs": [
    {
     "data": {
      "text/plain": [
       "(3, 4, 5, 6, 3, 4, 4)"
      ]
     },
     "execution_count": 20,
     "metadata": {},
     "output_type": "execute_result"
    }
   ],
   "source": [
    "# Slicing\n",
    "\n",
    "num[2:]"
   ]
  },
  {
   "cell_type": "code",
   "execution_count": 21,
   "id": "7de3dea0",
   "metadata": {},
   "outputs": [
    {
     "data": {
      "text/plain": [
       "(4, 4, 3, 6, 5, 4, 3, 2, 1)"
      ]
     },
     "execution_count": 21,
     "metadata": {},
     "output_type": "execute_result"
    }
   ],
   "source": [
    "num[::-1]"
   ]
  },
  {
   "cell_type": "markdown",
   "id": "db2ae3a4",
   "metadata": {},
   "source": [
    "## Unpacking in Tuples"
   ]
  },
  {
   "cell_type": "code",
   "execution_count": 22,
   "id": "d8ab364b",
   "metadata": {},
   "outputs": [
    {
     "data": {
      "text/plain": [
       "('D', 'i', 'v', 'y', 'a', 'n', 's', 'h')"
      ]
     },
     "execution_count": 22,
     "metadata": {},
     "output_type": "execute_result"
    }
   ],
   "source": [
    "# 001\n",
    "\n",
    "# Unpacking a string with the help of tuples\n",
    "# which means storing each character of a string as seperate elements in tuple\n",
    "\n",
    "tuple(\"Divyansh\")"
   ]
  },
  {
   "cell_type": "code",
   "execution_count": 23,
   "id": "6e3dc203",
   "metadata": {},
   "outputs": [
    {
     "name": "stdout",
     "output_type": "stream",
     "text": [
      "(1, 2, 3, 4)\n"
     ]
    }
   ],
   "source": [
    "#002\n",
    "\n",
    "num = 1,2,3,4\n",
    "print(num)"
   ]
  },
  {
   "cell_type": "code",
   "execution_count": 24,
   "id": "285443da",
   "metadata": {},
   "outputs": [],
   "source": [
    "#unpacking a tuple\n",
    "\n",
    "a,b,c,d = num"
   ]
  },
  {
   "cell_type": "code",
   "execution_count": 25,
   "id": "72347623",
   "metadata": {},
   "outputs": [
    {
     "name": "stdout",
     "output_type": "stream",
     "text": [
      "1 2 3 4\n"
     ]
    }
   ],
   "source": [
    "print(a,b,c,d)"
   ]
  },
  {
   "cell_type": "code",
   "execution_count": 26,
   "id": "f319ff6f",
   "metadata": {},
   "outputs": [],
   "source": [
    "a,b,*c = num"
   ]
  },
  {
   "cell_type": "code",
   "execution_count": 27,
   "id": "44bea95e",
   "metadata": {},
   "outputs": [
    {
     "name": "stdout",
     "output_type": "stream",
     "text": [
      "1 2 [3, 4]\n"
     ]
    }
   ],
   "source": [
    "print(a,b,c)"
   ]
  },
  {
   "cell_type": "code",
   "execution_count": 28,
   "id": "0f0a4c13",
   "metadata": {},
   "outputs": [
    {
     "name": "stdout",
     "output_type": "stream",
     "text": [
      "1 [2, 3] 4\n"
     ]
    }
   ],
   "source": [
    "a,*b,c = num\n",
    "print(a,b,c)"
   ]
  },
  {
   "cell_type": "markdown",
   "id": "2b73bea9",
   "metadata": {},
   "source": [
    "## Deleting a tuple"
   ]
  },
  {
   "cell_type": "code",
   "execution_count": 29,
   "id": "fb3beb4e",
   "metadata": {},
   "outputs": [],
   "source": [
    "num = 1,2,3,3"
   ]
  },
  {
   "cell_type": "code",
   "execution_count": 30,
   "id": "4d3fc721",
   "metadata": {},
   "outputs": [
    {
     "data": {
      "text/plain": [
       "(1, 2, 3, 3)"
      ]
     },
     "execution_count": 30,
     "metadata": {},
     "output_type": "execute_result"
    }
   ],
   "source": [
    "num"
   ]
  },
  {
   "cell_type": "code",
   "execution_count": 31,
   "id": "e1b04c33",
   "metadata": {},
   "outputs": [
    {
     "name": "stdout",
     "output_type": "stream",
     "text": [
      "(1, 2, 3, 3)\n"
     ]
    }
   ],
   "source": [
    "print(num)"
   ]
  },
  {
   "cell_type": "code",
   "execution_count": 32,
   "id": "6aa443db",
   "metadata": {},
   "outputs": [],
   "source": [
    "del num"
   ]
  },
  {
   "cell_type": "code",
   "execution_count": 33,
   "id": "bf88edb5",
   "metadata": {},
   "outputs": [
    {
     "ename": "NameError",
     "evalue": "name 'num' is not defined",
     "output_type": "error",
     "traceback": [
      "\u001b[1;31m---------------------------------------------------------------------------\u001b[0m",
      "\u001b[1;31mNameError\u001b[0m                                 Traceback (most recent call last)",
      "\u001b[1;32m<ipython-input-33-55a60ae9504f>\u001b[0m in \u001b[0;36m<module>\u001b[1;34m\u001b[0m\n\u001b[1;32m----> 1\u001b[1;33m \u001b[0mprint\u001b[0m\u001b[1;33m(\u001b[0m\u001b[0mnum\u001b[0m\u001b[1;33m)\u001b[0m\u001b[1;33m\u001b[0m\u001b[1;33m\u001b[0m\u001b[0m\n\u001b[0m",
      "\u001b[1;31mNameError\u001b[0m: name 'num' is not defined"
     ]
    }
   ],
   "source": [
    "print(num)"
   ]
  },
  {
   "cell_type": "markdown",
   "id": "68cce519",
   "metadata": {},
   "source": [
    "## Built-in Functions"
   ]
  },
  {
   "cell_type": "code",
   "execution_count": 38,
   "id": "4427fc76",
   "metadata": {},
   "outputs": [],
   "source": [
    "num1 = 1,2,3,4,4,4,4,2,4,21,342,12"
   ]
  },
  {
   "cell_type": "code",
   "execution_count": 39,
   "id": "0bd61d92",
   "metadata": {},
   "outputs": [
    {
     "data": {
      "text/plain": [
       "(1, 2, 3, 4, 4, 4, 4, 2, 4, 21, 342, 12)"
      ]
     },
     "execution_count": 39,
     "metadata": {},
     "output_type": "execute_result"
    }
   ],
   "source": [
    "num1"
   ]
  },
  {
   "cell_type": "code",
   "execution_count": 40,
   "id": "843a0c5c",
   "metadata": {},
   "outputs": [
    {
     "data": {
      "text/plain": [
       "5"
      ]
     },
     "execution_count": 40,
     "metadata": {},
     "output_type": "execute_result"
    }
   ],
   "source": [
    "num1.count(4)"
   ]
  },
  {
   "cell_type": "code",
   "execution_count": 41,
   "id": "15cb83aa",
   "metadata": {},
   "outputs": [
    {
     "data": {
      "text/plain": [
       "403"
      ]
     },
     "execution_count": 41,
     "metadata": {},
     "output_type": "execute_result"
    }
   ],
   "source": [
    "sum(num1)"
   ]
  },
  {
   "cell_type": "code",
   "execution_count": 43,
   "id": "b51c5f38",
   "metadata": {},
   "outputs": [
    {
     "data": {
      "text/plain": [
       "1"
      ]
     },
     "execution_count": 43,
     "metadata": {},
     "output_type": "execute_result"
    }
   ],
   "source": [
    "min(num1)"
   ]
  },
  {
   "cell_type": "code",
   "execution_count": 44,
   "id": "90070a94",
   "metadata": {},
   "outputs": [
    {
     "data": {
      "text/plain": [
       "342"
      ]
     },
     "execution_count": 44,
     "metadata": {},
     "output_type": "execute_result"
    }
   ],
   "source": [
    "max(num1)"
   ]
  },
  {
   "cell_type": "code",
   "execution_count": 45,
   "id": "dd9d3a45",
   "metadata": {},
   "outputs": [
    {
     "data": {
      "text/plain": [
       "12"
      ]
     },
     "execution_count": 45,
     "metadata": {},
     "output_type": "execute_result"
    }
   ],
   "source": [
    "len(num1)"
   ]
  },
  {
   "cell_type": "markdown",
   "id": "150ce291",
   "metadata": {},
   "source": [
    "## Converting list and tuple into each other"
   ]
  },
  {
   "cell_type": "code",
   "execution_count": 46,
   "id": "98656ed6",
   "metadata": {},
   "outputs": [],
   "source": [
    "lst = [1,2,3,4,2,21,12]"
   ]
  },
  {
   "cell_type": "code",
   "execution_count": 47,
   "id": "d3e5abb1",
   "metadata": {},
   "outputs": [
    {
     "name": "stdout",
     "output_type": "stream",
     "text": [
      "[1, 2, 3, 4, 2, 21, 12]\n"
     ]
    }
   ],
   "source": [
    "print(lst)"
   ]
  },
  {
   "cell_type": "code",
   "execution_count": 50,
   "id": "183a4fba",
   "metadata": {},
   "outputs": [],
   "source": [
    "# Converting list to tuple\n",
    "\n",
    "tpl = tuple(lst)"
   ]
  },
  {
   "cell_type": "code",
   "execution_count": 51,
   "id": "2dfc19e2",
   "metadata": {},
   "outputs": [
    {
     "data": {
      "text/plain": [
       "(1, 2, 3, 4, 2, 21, 12)"
      ]
     },
     "execution_count": 51,
     "metadata": {},
     "output_type": "execute_result"
    }
   ],
   "source": [
    "tpl"
   ]
  },
  {
   "cell_type": "code",
   "execution_count": 52,
   "id": "f39af489",
   "metadata": {},
   "outputs": [],
   "source": [
    "#converting a list to tuple\n",
    "\n",
    "lst1 = list(tpl)"
   ]
  },
  {
   "cell_type": "code",
   "execution_count": 53,
   "id": "4064fe7e",
   "metadata": {},
   "outputs": [
    {
     "data": {
      "text/plain": [
       "[1, 2, 3, 4, 2, 21, 12]"
      ]
     },
     "execution_count": 53,
     "metadata": {},
     "output_type": "execute_result"
    }
   ],
   "source": [
    "lst1"
   ]
  },
  {
   "cell_type": "markdown",
   "id": "8d03c25a",
   "metadata": {},
   "source": [
    "## Nesting tuples in a list"
   ]
  },
  {
   "cell_type": "code",
   "execution_count": 55,
   "id": "28b3ae59",
   "metadata": {},
   "outputs": [],
   "source": [
    "nlst = [(1,2,3),('a','b','c')]"
   ]
  },
  {
   "cell_type": "code",
   "execution_count": 56,
   "id": "efb50f6a",
   "metadata": {},
   "outputs": [
    {
     "data": {
      "text/plain": [
       "[(1, 2, 3), ('a', 'b', 'c')]"
      ]
     },
     "execution_count": 56,
     "metadata": {},
     "output_type": "execute_result"
    }
   ],
   "source": [
    "nlst"
   ]
  },
  {
   "cell_type": "code",
   "execution_count": 58,
   "id": "287b75b1",
   "metadata": {},
   "outputs": [],
   "source": [
    "nlst.append((\"Bag\",\"Cat\",\"Dog\"))"
   ]
  },
  {
   "cell_type": "code",
   "execution_count": 59,
   "id": "5830ca73",
   "metadata": {},
   "outputs": [
    {
     "data": {
      "text/plain": [
       "[(1, 2, 3), ('a', 'b', 'c'), ('Bag', 'Cat', 'Dog')]"
      ]
     },
     "execution_count": 59,
     "metadata": {},
     "output_type": "execute_result"
    }
   ],
   "source": [
    "nlst"
   ]
  },
  {
   "cell_type": "code",
   "execution_count": 60,
   "id": "a96c2e07",
   "metadata": {},
   "outputs": [],
   "source": [
    "nlst.remove((1,2,3))"
   ]
  },
  {
   "cell_type": "code",
   "execution_count": 61,
   "id": "179550da",
   "metadata": {},
   "outputs": [
    {
     "data": {
      "text/plain": [
       "[('a', 'b', 'c'), ('Bag', 'Cat', 'Dog')]"
      ]
     },
     "execution_count": 61,
     "metadata": {},
     "output_type": "execute_result"
    }
   ],
   "source": [
    "nlst"
   ]
  },
  {
   "cell_type": "markdown",
   "id": "7db6eced",
   "metadata": {},
   "source": [
    "## Nesting lists within tuple"
   ]
  },
  {
   "cell_type": "code",
   "execution_count": 2,
   "id": "881f35da",
   "metadata": {},
   "outputs": [],
   "source": [
    "ntpl = (['a','b','c'],[1,2,3])"
   ]
  },
  {
   "cell_type": "code",
   "execution_count": 3,
   "id": "e7d68562",
   "metadata": {},
   "outputs": [
    {
     "data": {
      "text/plain": [
       "(['a', 'b', 'c'], [1, 2, 3])"
      ]
     },
     "execution_count": 3,
     "metadata": {},
     "output_type": "execute_result"
    }
   ],
   "source": [
    "ntpl"
   ]
  },
  {
   "cell_type": "code",
   "execution_count": 4,
   "id": "faf28491",
   "metadata": {},
   "outputs": [],
   "source": [
    "# We cannot make changes in a tuple.\n",
    "# But we can make changes in the element lists\n",
    "\n",
    "ntpl[1].append(1)"
   ]
  },
  {
   "cell_type": "code",
   "execution_count": 5,
   "id": "99b7e71a",
   "metadata": {},
   "outputs": [
    {
     "data": {
      "text/plain": [
       "(['a', 'b', 'c'], [1, 2, 3, 1])"
      ]
     },
     "execution_count": 5,
     "metadata": {},
     "output_type": "execute_result"
    }
   ],
   "source": [
    "ntpl"
   ]
  },
  {
   "cell_type": "code",
   "execution_count": 6,
   "id": "06a9551b",
   "metadata": {},
   "outputs": [
    {
     "data": {
      "text/plain": [
       "(['a', 'b', 'c'], [2, 3, 1])"
      ]
     },
     "execution_count": 6,
     "metadata": {},
     "output_type": "execute_result"
    }
   ],
   "source": [
    "ntpl[1].remove(1)\n",
    "\n",
    "ntpl"
   ]
  },
  {
   "cell_type": "code",
   "execution_count": 7,
   "id": "9130d585",
   "metadata": {},
   "outputs": [],
   "source": [
    "# Slicing in Tuples\n",
    "num = 1,2,3,4,5,6,3,4,4"
   ]
  },
  {
   "cell_type": "code",
   "execution_count": 8,
   "id": "d62f50b2",
   "metadata": {},
   "outputs": [
    {
     "data": {
      "text/plain": [
       "tuple"
      ]
     },
     "execution_count": 8,
     "metadata": {},
     "output_type": "execute_result"
    }
   ],
   "source": [
    "num\n",
    "type(num)"
   ]
  },
  {
   "cell_type": "code",
   "execution_count": 9,
   "id": "f4e70aff",
   "metadata": {},
   "outputs": [
    {
     "data": {
      "text/plain": [
       "(3, 4, 5, 6, 3, 4, 4)"
      ]
     },
     "execution_count": 9,
     "metadata": {},
     "output_type": "execute_result"
    }
   ],
   "source": [
    "# Slicing\n",
    "\n",
    "num[2:]"
   ]
  },
  {
   "cell_type": "code",
   "execution_count": 10,
   "id": "892134a7",
   "metadata": {},
   "outputs": [
    {
     "data": {
      "text/plain": [
       "(4, 4, 3, 6, 5, 4, 3, 2, 1)"
      ]
     },
     "execution_count": 10,
     "metadata": {},
     "output_type": "execute_result"
    }
   ],
   "source": [
    "num[::-1]"
   ]
  },
  {
   "cell_type": "markdown",
   "id": "60d69137",
   "metadata": {},
   "source": [
    "## Unpacking in Tuples"
   ]
  },
  {
   "cell_type": "code",
   "execution_count": 11,
   "id": "6252852a",
   "metadata": {},
   "outputs": [
    {
     "data": {
      "text/plain": [
       "('D', 'i', 'v', 'y', 'a', 'n', 's', 'h')"
      ]
     },
     "execution_count": 11,
     "metadata": {},
     "output_type": "execute_result"
    }
   ],
   "source": [
    "\n",
    "\n",
    "# 001\n",
    "\n",
    "# Unpacking a string with the help of tuples\n",
    "# which means storing each character of a string as seperate elements in tuple\n",
    "\n",
    "tuple(\"Divyansh\")\n",
    "\n",
    "\n",
    "\n"
   ]
  },
  {
   "cell_type": "code",
   "execution_count": 12,
   "id": "a8ea9ff3",
   "metadata": {},
   "outputs": [
    {
     "name": "stdout",
     "output_type": "stream",
     "text": [
      "(1, 2, 3, 4)\n"
     ]
    }
   ],
   "source": [
    "#002\n",
    "\n",
    "num = 1,2,3,4\n",
    "print(num)"
   ]
  },
  {
   "cell_type": "code",
   "execution_count": 13,
   "id": "5d5483cd",
   "metadata": {},
   "outputs": [
    {
     "name": "stdout",
     "output_type": "stream",
     "text": [
      "1 2 3 4\n"
     ]
    }
   ],
   "source": [
    "#unpacking a tuple\n",
    "\n",
    "a,b,c,d = num\n",
    "\n",
    "print(a,b,c,d)\n"
   ]
  },
  {
   "cell_type": "code",
   "execution_count": 14,
   "id": "7f5da4eb",
   "metadata": {},
   "outputs": [
    {
     "name": "stdout",
     "output_type": "stream",
     "text": [
      "1 2 [3, 4]\n"
     ]
    }
   ],
   "source": [
    "a,b,*c = num\n",
    "\n",
    "print(a,b,c)\n"
   ]
  },
  {
   "cell_type": "code",
   "execution_count": 15,
   "id": "6fd06551",
   "metadata": {},
   "outputs": [
    {
     "name": "stdout",
     "output_type": "stream",
     "text": [
      "1 [2, 3] 4\n"
     ]
    }
   ],
   "source": [
    "a,*b,c = num\n",
    "print(a,b,c)\n"
   ]
  },
  {
   "cell_type": "code",
   "execution_count": 16,
   "id": "de6211ca",
   "metadata": {},
   "outputs": [
    {
     "name": "stdout",
     "output_type": "stream",
     "text": [
      "(1, 2, 3, 3)\n"
     ]
    }
   ],
   "source": [
    "## Deleting a tuple\n",
    "\n",
    "num = 1,2,3,3\n",
    "\n",
    "num\n",
    "\n",
    "print(num)"
   ]
  },
  {
   "cell_type": "code",
   "execution_count": 17,
   "id": "c2970149",
   "metadata": {},
   "outputs": [],
   "source": [
    "del num"
   ]
  },
  {
   "cell_type": "code",
   "execution_count": 18,
   "id": "fd5f648a",
   "metadata": {},
   "outputs": [
    {
     "ename": "NameError",
     "evalue": "name 'num' is not defined",
     "output_type": "error",
     "traceback": [
      "\u001b[1;31m---------------------------------------------------------------------------\u001b[0m",
      "\u001b[1;31mNameError\u001b[0m                                 Traceback (most recent call last)",
      "\u001b[1;32m<ipython-input-18-55a60ae9504f>\u001b[0m in \u001b[0;36m<module>\u001b[1;34m\u001b[0m\n\u001b[1;32m----> 1\u001b[1;33m \u001b[0mprint\u001b[0m\u001b[1;33m(\u001b[0m\u001b[0mnum\u001b[0m\u001b[1;33m)\u001b[0m\u001b[1;33m\u001b[0m\u001b[1;33m\u001b[0m\u001b[0m\n\u001b[0m",
      "\u001b[1;31mNameError\u001b[0m: name 'num' is not defined"
     ]
    }
   ],
   "source": [
    "print(num)"
   ]
  },
  {
   "cell_type": "markdown",
   "id": "07eb5113",
   "metadata": {},
   "source": [
    "## Built-in Functions"
   ]
  },
  {
   "cell_type": "code",
   "execution_count": 19,
   "id": "cfc62480",
   "metadata": {},
   "outputs": [
    {
     "data": {
      "text/plain": [
       "(1, 2, 3, 4, 4, 4, 4, 2, 4, 21, 342, 12)"
      ]
     },
     "execution_count": 19,
     "metadata": {},
     "output_type": "execute_result"
    }
   ],
   "source": [
    "\n",
    "\n",
    "num1 = 1,2,3,4,4,4,4,2,4,21,342,12\n",
    "\n",
    "num1"
   ]
  },
  {
   "cell_type": "code",
   "execution_count": 20,
   "id": "2edfb3d3",
   "metadata": {},
   "outputs": [
    {
     "data": {
      "text/plain": [
       "5"
      ]
     },
     "execution_count": 20,
     "metadata": {},
     "output_type": "execute_result"
    }
   ],
   "source": [
    "num1.count(4)"
   ]
  },
  {
   "cell_type": "code",
   "execution_count": 21,
   "id": "8ea4f923",
   "metadata": {},
   "outputs": [
    {
     "data": {
      "text/plain": [
       "403"
      ]
     },
     "execution_count": 21,
     "metadata": {},
     "output_type": "execute_result"
    }
   ],
   "source": [
    "sum(num1)"
   ]
  },
  {
   "cell_type": "code",
   "execution_count": 22,
   "id": "d19f4fa7",
   "metadata": {},
   "outputs": [
    {
     "data": {
      "text/plain": [
       "1"
      ]
     },
     "execution_count": 22,
     "metadata": {},
     "output_type": "execute_result"
    }
   ],
   "source": [
    "\n",
    "min(num1)\n"
   ]
  },
  {
   "cell_type": "code",
   "execution_count": 23,
   "id": "96b48d19",
   "metadata": {},
   "outputs": [
    {
     "data": {
      "text/plain": [
       "342"
      ]
     },
     "execution_count": 23,
     "metadata": {},
     "output_type": "execute_result"
    }
   ],
   "source": [
    "max(num1)"
   ]
  },
  {
   "cell_type": "code",
   "execution_count": 24,
   "id": "b9429c60",
   "metadata": {},
   "outputs": [
    {
     "data": {
      "text/plain": [
       "12"
      ]
     },
     "execution_count": 24,
     "metadata": {},
     "output_type": "execute_result"
    }
   ],
   "source": [
    "len(num1)"
   ]
  },
  {
   "cell_type": "markdown",
   "id": "5e12d657",
   "metadata": {},
   "source": [
    "## Converting list and tuple into each other"
   ]
  },
  {
   "cell_type": "code",
   "execution_count": 25,
   "id": "1e3943d0",
   "metadata": {},
   "outputs": [
    {
     "name": "stdout",
     "output_type": "stream",
     "text": [
      "[1, 2, 3, 4, 2, 21, 12]\n"
     ]
    }
   ],
   "source": [
    "lst = [1,2,3,4,2,21,12]\n",
    "print(lst)"
   ]
  },
  {
   "cell_type": "code",
   "execution_count": 26,
   "id": "af058168",
   "metadata": {},
   "outputs": [
    {
     "data": {
      "text/plain": [
       "(1, 2, 3, 4, 2, 21, 12)"
      ]
     },
     "execution_count": 26,
     "metadata": {},
     "output_type": "execute_result"
    }
   ],
   "source": [
    "# Converting list to tuple\n",
    "\n",
    "tpl = tuple(lst)\n",
    "\n",
    "tpl"
   ]
  },
  {
   "cell_type": "code",
   "execution_count": 27,
   "id": "6deca63f",
   "metadata": {},
   "outputs": [
    {
     "data": {
      "text/plain": [
       "[1, 2, 3, 4, 2, 21, 12]"
      ]
     },
     "execution_count": 27,
     "metadata": {},
     "output_type": "execute_result"
    }
   ],
   "source": [
    "#converting a list to tuple\n",
    "\n",
    "lst1 = list(tpl)\n",
    "\n",
    "lst1"
   ]
  },
  {
   "cell_type": "markdown",
   "id": "6c03b110",
   "metadata": {},
   "source": [
    "## Nesting tuples in a list"
   ]
  },
  {
   "cell_type": "code",
   "execution_count": 28,
   "id": "5892d25d",
   "metadata": {},
   "outputs": [
    {
     "data": {
      "text/plain": [
       "[(1, 2, 3), ('a', 'b', 'c')]"
      ]
     },
     "execution_count": 28,
     "metadata": {},
     "output_type": "execute_result"
    }
   ],
   "source": [
    "\n",
    "\n",
    "nlst = [(1,2,3),('a','b','c')]\n",
    "\n",
    "nlst"
   ]
  },
  {
   "cell_type": "code",
   "execution_count": 29,
   "id": "e50d0901",
   "metadata": {},
   "outputs": [],
   "source": [
    "\n",
    "nlst.append((\"Bag\",\"Cat\",\"Dog\"))\n"
   ]
  },
  {
   "cell_type": "code",
   "execution_count": 30,
   "id": "facfd11a",
   "metadata": {},
   "outputs": [
    {
     "data": {
      "text/plain": [
       "[(1, 2, 3), ('a', 'b', 'c'), ('Bag', 'Cat', 'Dog')]"
      ]
     },
     "execution_count": 30,
     "metadata": {},
     "output_type": "execute_result"
    }
   ],
   "source": [
    "nlst"
   ]
  },
  {
   "cell_type": "code",
   "execution_count": 31,
   "id": "9a0fee57",
   "metadata": {},
   "outputs": [
    {
     "data": {
      "text/plain": [
       "[('a', 'b', 'c'), ('Bag', 'Cat', 'Dog')]"
      ]
     },
     "execution_count": 31,
     "metadata": {},
     "output_type": "execute_result"
    }
   ],
   "source": [
    "nlst.remove((1,2,3))\n",
    "\n",
    "nlst"
   ]
  },
  {
   "cell_type": "markdown",
   "id": "e7ee0186",
   "metadata": {},
   "source": [
    "## Nesting lists within tuple"
   ]
  },
  {
   "cell_type": "code",
   "execution_count": 32,
   "id": "2eb0dec1",
   "metadata": {},
   "outputs": [
    {
     "data": {
      "text/plain": [
       "(['a', 'b', 'c'], [1, 2, 3])"
      ]
     },
     "execution_count": 32,
     "metadata": {},
     "output_type": "execute_result"
    }
   ],
   "source": [
    "\n",
    "\n",
    "ntpl = (['a','b','c'],[1,2,3])\n",
    "\n",
    "ntpl\n"
   ]
  },
  {
   "cell_type": "code",
   "execution_count": 33,
   "id": "f782ff0e",
   "metadata": {},
   "outputs": [
    {
     "data": {
      "text/plain": [
       "(['a', 'b', 'c'], [1, 2, 3, 1])"
      ]
     },
     "execution_count": 33,
     "metadata": {},
     "output_type": "execute_result"
    }
   ],
   "source": [
    "# We cannot make changes in a tuple.\n",
    "# But we can make changes in the element lists\n",
    "\n",
    "ntpl[1].append(1)\n",
    "\n",
    "ntpl\n"
   ]
  },
  {
   "cell_type": "code",
   "execution_count": 34,
   "id": "f2cf6ebb",
   "metadata": {},
   "outputs": [
    {
     "data": {
      "text/plain": [
       "(['a', 'b', 'c'], [2, 3, 1])"
      ]
     },
     "execution_count": 34,
     "metadata": {},
     "output_type": "execute_result"
    }
   ],
   "source": [
    "ntpl[1].remove(1)\n",
    "\n",
    "ntpl"
   ]
  }
 ],
 "metadata": {
  "kernelspec": {
   "display_name": "Python 3",
   "language": "python",
   "name": "python3"
  },
  "language_info": {
   "codemirror_mode": {
    "name": "ipython",
    "version": 3
   },
   "file_extension": ".py",
   "mimetype": "text/x-python",
   "name": "python",
   "nbconvert_exporter": "python",
   "pygments_lexer": "ipython3",
   "version": "3.8.8"
  }
 },
 "nbformat": 4,
 "nbformat_minor": 5
}
